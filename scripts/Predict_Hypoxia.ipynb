{
 "cells": [
  {
   "cell_type": "code",
   "execution_count": 1,
   "id": "developmental-mailing",
   "metadata": {},
   "outputs": [],
   "source": [
    "data_dir = \"/Volumes/KeithSSD/ChesapeakeMicrobiome/data/environmental_raw_data\"\n",
    "\n",
    "columns_desired = c('Station', 'WaterColumnPosition', 'DO')\n",
    "orig_data <- read.delim(paste(data_dir, 'merged_paired_water_quality_data.txt', sep=\"/\"), \n",
    "                        row.names=1)[,columns_desired]\n",
    "env_data <- orig_data[!is.na(orig_data$DO),]"
   ]
  },
  {
   "cell_type": "code",
   "execution_count": 2,
   "id": "experimental-address",
   "metadata": {},
   "outputs": [],
   "source": [
    "env_data[,'hypoxia'] <- factor(ifelse(env_data$DO<=2.0,1,0))"
   ]
  },
  {
   "cell_type": "code",
   "execution_count": 3,
   "id": "spectacular-driving",
   "metadata": {},
   "outputs": [
    {
     "data": {
      "text/plain": [
       "   \n",
       "    CB2.2 CB3.1 CB3.2 CB3.3C CB4.1C CB4.2C CB4.3C CB4.4 CB5.1 CB5.2 CB5.3 CB5.4\n",
       "  0    15     6     2      8      0      3      3    10     6     2    17    18\n",
       "  1     0     3     6     10      3      6      9     6     3     1     1     0\n",
       "   \n",
       "    CB6.1 CB6.2 CB6.3 CB6.4 CB7.1 CB7.2 CB7.3 CB7.4\n",
       "  0    11    18    17     4    16    13    13     3\n",
       "  1     0     0     0     0     0     0     0     0"
      ]
     },
     "metadata": {},
     "output_type": "display_data"
    }
   ],
   "source": [
    "table(env_data$hypoxia, env_data$Station)"
   ]
  },
  {
   "cell_type": "code",
   "execution_count": 4,
   "id": "sophisticated-marathon",
   "metadata": {},
   "outputs": [
    {
     "data": {
      "text/html": [
       "<style>\n",
       ".list-inline {list-style: none; margin:0; padding: 0}\n",
       ".list-inline>li {display: inline-block}\n",
       ".list-inline>li:not(:last-child)::after {content: \"\\00b7\"; padding: 0 .5ex}\n",
       "</style>\n",
       "<ol class=list-inline><li>233</li><li>1349</li></ol>\n"
      ],
      "text/latex": [
       "\\begin{enumerate*}\n",
       "\\item 233\n",
       "\\item 1349\n",
       "\\end{enumerate*}\n"
      ],
      "text/markdown": [
       "1. 233\n",
       "2. 1349\n",
       "\n",
       "\n"
      ],
      "text/plain": [
       "[1]  233 1349"
      ]
     },
     "metadata": {},
     "output_type": "display_data"
    },
    {
     "data": {
      "text/html": [
       "<style>\n",
       ".list-inline {list-style: none; margin:0; padding: 0}\n",
       ".list-inline>li {display: inline-block}\n",
       ".list-inline>li:not(:last-child)::after {content: \"\\00b7\"; padding: 0 .5ex}\n",
       "</style>\n",
       "<ol class=list-inline><li>233</li><li>1349</li></ol>\n"
      ],
      "text/latex": [
       "\\begin{enumerate*}\n",
       "\\item 233\n",
       "\\item 1349\n",
       "\\end{enumerate*}\n"
      ],
      "text/markdown": [
       "1. 233\n",
       "2. 1349\n",
       "\n",
       "\n"
      ],
      "text/plain": [
       "[1]  233 1349"
      ]
     },
     "metadata": {},
     "output_type": "display_data"
    }
   ],
   "source": [
    "suppressPackageStartupMessages(library(zCompositions))\n",
    "suppressPackageStartupMessages(library(compositions))\n",
    "\n",
    "data_objects = list()\n",
    "rar_df = read.delim('../data/otu_tables/final_rarefied_table.best.txt', row.names=1, sep=\"\\t\")[rownames(env_data),]\n",
    "rar_df = rar_df[which(rowSums(rar_df) > 0), which(colSums(rar_df) > 0)]\n",
    "col_ordered = intersect(paste('OTU', 1:56832, sep=\"\"), colnames(rar_df))\n",
    "dim(rar_df)\n",
    "rar_df = rar_df[,c(col_ordered)]\n",
    "dim(rar_df)"
   ]
  },
  {
   "cell_type": "code",
   "execution_count": 5,
   "id": "decreased-lunch",
   "metadata": {},
   "outputs": [],
   "source": [
    "ra_rar_df = data.matrix(clr(cmultRepl((rar_df), method=\"CZM\", output=\"p-counts\")))\n",
    "data_objects[['Rare.ASVs']] = ra_rar_df"
   ]
  },
  {
   "cell_type": "code",
   "execution_count": 6,
   "id": "industrial-maker",
   "metadata": {},
   "outputs": [
    {
     "name": "stdout",
     "output_type": "stream",
     "text": [
      "[1] \"Actinomarinales.Actinomarinaceae\"      \n",
      "[2] \"Oceanospirillales.Halomonadaceae\"      \n",
      "[3] \"Betaproteobacteriales.Burkholderiaceae\"\n",
      "[1] 233 477 233 477\n",
      "[1] \"methanotrophy\"                                        \n",
      "[2] \"acetoclastic_methanogenesis\"                          \n",
      "[3] \"methanogenesis_by_disproportionation_of_methyl_groups\"\n",
      "[1] 233  69 233  91\n",
      "[1] \"OEU.1\" \"OEU.2\" \"OEU.3\"\n",
      "[1] 233 128 233 128\n"
     ]
    }
   ],
   "source": [
    "oeu_file = '../data/oeu_clusters/oeu_abundances.txt'\n",
    "fxn_file = \"../data/faprotax_data/function_abundances.txt\"\n",
    "taxa_file = '../data/otu_tables/taxa_family_abundances.txt'\n",
    "\n",
    "data_files = list('Taxa.Family'=taxa_file, 'Fxn.SILVA'=fxn_file, 'ASV.OEU'=oeu_file)\n",
    "\n",
    "for (i in names(data_files)){\n",
    "    temp_frame = read.delim(data_files[[i]], row.names=1)[rownames(env_data),]\n",
    "    data_objects[[i]] = temp_frame[which(rowSums(temp_frame) > 0), which(colSums(temp_frame) > 0)]\n",
    "    print(colnames(data_objects[[i]])[1:3])\n",
    "    print(c(dim(data_objects[[i]]), dim(temp_frame)))\n",
    "    rowsums_ofThis = (1/(rowSums(data_objects[[i]]) / max(rowSums(data_objects[[i]]))))\n",
    "    data_objects[[i]] = data_objects[[i]]*rowsums_ofThis\n",
    "}"
   ]
  },
  {
   "cell_type": "code",
   "execution_count": 7,
   "id": "swiss-disposition",
   "metadata": {},
   "outputs": [
    {
     "data": {
      "text/html": [
       "<style>\n",
       ".list-inline {list-style: none; margin:0; padding: 0}\n",
       ".list-inline>li {display: inline-block}\n",
       ".list-inline>li:not(:last-child)::after {content: \"\\00b7\"; padding: 0 .5ex}\n",
       "</style>\n",
       "<ol class=list-inline><li>'methanotrophy'</li><li>'acetoclastic_methanogenesis'</li><li>'methanogenesis_by_disproportionation_of_methyl_groups'</li><li>'methanogenesis_using_formate'</li><li>'methanogenesis_by_CO2_reduction_with_H2'</li><li>'methanogenesis_by_reduction_of_methyl_compounds_with_H2'</li><li>'hydrogenotrophic_methanogenesis'</li><li>'methanogenesis'</li><li>'methanol_oxidation'</li><li>'methylotrophy'</li><li>'aerobic_ammonia_oxidation'</li><li>'aerobic_nitrite_oxidation'</li><li>'nitrification'</li><li>'sulfate_respiration'</li><li>'sulfur_respiration'</li><li>'dark_sulfite_oxidation'</li><li>'sulfite_respiration'</li><li>'thiosulfate_respiration'</li><li>'respiration_of_sulfur_compounds'</li><li>'anammox'</li><li>'nitrate_denitrification'</li><li>'nitrite_denitrification'</li><li>'nitrous_oxide_denitrification'</li><li>'denitrification'</li><li>'chitinolysis'</li><li>'dark_hydrogen_oxidation'</li><li>'nitrogen_fixation'</li><li>'nitrite_respiration'</li><li>'cellulolysis'</li><li>'xylanolysis'</li><li>'dark_sulfide_oxidation'</li><li>'dark_sulfur_oxidation'</li><li>'dark_thiosulfate_oxidation'</li><li>'dark_oxidation_of_sulfur_compounds'</li><li>'manganese_oxidation'</li><li>'manganese_respiration'</li><li>'fermentation'</li><li>'aerobic_chemoheterotrophy'</li><li>'human_pathogens_septicemia'</li><li>'human_pathogens_all'</li><li>'human_gut'</li><li>'mammal_gut'</li><li>'animal_parasites_or_symbionts'</li><li>'aromatic_hydrocarbon_degradation'</li><li>'aromatic_compound_degradation'</li><li>'aliphatic_non_methane_hydrocarbon_degradation'</li><li>'hydrocarbon_degradation'</li><li>'dark_iron_oxidation'</li><li>'iron_respiration'</li><li>'nitrate_respiration'</li><li>'nitrate_reduction'</li><li>'nitrogen_respiration'</li><li>'fumarate_respiration'</li><li>'intracellular_parasites'</li><li>'chlorate_reducers'</li><li>'predatory_or_exoparasitic'</li><li>'chloroplasts'</li><li>'cyanobacteria'</li><li>'anoxygenic_photoautotrophy_H2_oxidizing'</li><li>'anoxygenic_photoautotrophy_S_oxidizing'</li><li>'anoxygenic_photoautotrophy_Fe_oxidizing'</li><li>'anoxygenic_photoautotrophy'</li><li>'oxygenic_photoautotrophy'</li><li>'photoautotrophy'</li><li>'aerobic_anoxygenic_phototrophy'</li><li>'photoheterotrophy'</li><li>'phototrophy'</li><li>'ureolysis'</li><li>'chemoheterotrophy'</li></ol>\n"
      ],
      "text/latex": [
       "\\begin{enumerate*}\n",
       "\\item 'methanotrophy'\n",
       "\\item 'acetoclastic\\_methanogenesis'\n",
       "\\item 'methanogenesis\\_by\\_disproportionation\\_of\\_methyl\\_groups'\n",
       "\\item 'methanogenesis\\_using\\_formate'\n",
       "\\item 'methanogenesis\\_by\\_CO2\\_reduction\\_with\\_H2'\n",
       "\\item 'methanogenesis\\_by\\_reduction\\_of\\_methyl\\_compounds\\_with\\_H2'\n",
       "\\item 'hydrogenotrophic\\_methanogenesis'\n",
       "\\item 'methanogenesis'\n",
       "\\item 'methanol\\_oxidation'\n",
       "\\item 'methylotrophy'\n",
       "\\item 'aerobic\\_ammonia\\_oxidation'\n",
       "\\item 'aerobic\\_nitrite\\_oxidation'\n",
       "\\item 'nitrification'\n",
       "\\item 'sulfate\\_respiration'\n",
       "\\item 'sulfur\\_respiration'\n",
       "\\item 'dark\\_sulfite\\_oxidation'\n",
       "\\item 'sulfite\\_respiration'\n",
       "\\item 'thiosulfate\\_respiration'\n",
       "\\item 'respiration\\_of\\_sulfur\\_compounds'\n",
       "\\item 'anammox'\n",
       "\\item 'nitrate\\_denitrification'\n",
       "\\item 'nitrite\\_denitrification'\n",
       "\\item 'nitrous\\_oxide\\_denitrification'\n",
       "\\item 'denitrification'\n",
       "\\item 'chitinolysis'\n",
       "\\item 'dark\\_hydrogen\\_oxidation'\n",
       "\\item 'nitrogen\\_fixation'\n",
       "\\item 'nitrite\\_respiration'\n",
       "\\item 'cellulolysis'\n",
       "\\item 'xylanolysis'\n",
       "\\item 'dark\\_sulfide\\_oxidation'\n",
       "\\item 'dark\\_sulfur\\_oxidation'\n",
       "\\item 'dark\\_thiosulfate\\_oxidation'\n",
       "\\item 'dark\\_oxidation\\_of\\_sulfur\\_compounds'\n",
       "\\item 'manganese\\_oxidation'\n",
       "\\item 'manganese\\_respiration'\n",
       "\\item 'fermentation'\n",
       "\\item 'aerobic\\_chemoheterotrophy'\n",
       "\\item 'human\\_pathogens\\_septicemia'\n",
       "\\item 'human\\_pathogens\\_all'\n",
       "\\item 'human\\_gut'\n",
       "\\item 'mammal\\_gut'\n",
       "\\item 'animal\\_parasites\\_or\\_symbionts'\n",
       "\\item 'aromatic\\_hydrocarbon\\_degradation'\n",
       "\\item 'aromatic\\_compound\\_degradation'\n",
       "\\item 'aliphatic\\_non\\_methane\\_hydrocarbon\\_degradation'\n",
       "\\item 'hydrocarbon\\_degradation'\n",
       "\\item 'dark\\_iron\\_oxidation'\n",
       "\\item 'iron\\_respiration'\n",
       "\\item 'nitrate\\_respiration'\n",
       "\\item 'nitrate\\_reduction'\n",
       "\\item 'nitrogen\\_respiration'\n",
       "\\item 'fumarate\\_respiration'\n",
       "\\item 'intracellular\\_parasites'\n",
       "\\item 'chlorate\\_reducers'\n",
       "\\item 'predatory\\_or\\_exoparasitic'\n",
       "\\item 'chloroplasts'\n",
       "\\item 'cyanobacteria'\n",
       "\\item 'anoxygenic\\_photoautotrophy\\_H2\\_oxidizing'\n",
       "\\item 'anoxygenic\\_photoautotrophy\\_S\\_oxidizing'\n",
       "\\item 'anoxygenic\\_photoautotrophy\\_Fe\\_oxidizing'\n",
       "\\item 'anoxygenic\\_photoautotrophy'\n",
       "\\item 'oxygenic\\_photoautotrophy'\n",
       "\\item 'photoautotrophy'\n",
       "\\item 'aerobic\\_anoxygenic\\_phototrophy'\n",
       "\\item 'photoheterotrophy'\n",
       "\\item 'phototrophy'\n",
       "\\item 'ureolysis'\n",
       "\\item 'chemoheterotrophy'\n",
       "\\end{enumerate*}\n"
      ],
      "text/markdown": [
       "1. 'methanotrophy'\n",
       "2. 'acetoclastic_methanogenesis'\n",
       "3. 'methanogenesis_by_disproportionation_of_methyl_groups'\n",
       "4. 'methanogenesis_using_formate'\n",
       "5. 'methanogenesis_by_CO2_reduction_with_H2'\n",
       "6. 'methanogenesis_by_reduction_of_methyl_compounds_with_H2'\n",
       "7. 'hydrogenotrophic_methanogenesis'\n",
       "8. 'methanogenesis'\n",
       "9. 'methanol_oxidation'\n",
       "10. 'methylotrophy'\n",
       "11. 'aerobic_ammonia_oxidation'\n",
       "12. 'aerobic_nitrite_oxidation'\n",
       "13. 'nitrification'\n",
       "14. 'sulfate_respiration'\n",
       "15. 'sulfur_respiration'\n",
       "16. 'dark_sulfite_oxidation'\n",
       "17. 'sulfite_respiration'\n",
       "18. 'thiosulfate_respiration'\n",
       "19. 'respiration_of_sulfur_compounds'\n",
       "20. 'anammox'\n",
       "21. 'nitrate_denitrification'\n",
       "22. 'nitrite_denitrification'\n",
       "23. 'nitrous_oxide_denitrification'\n",
       "24. 'denitrification'\n",
       "25. 'chitinolysis'\n",
       "26. 'dark_hydrogen_oxidation'\n",
       "27. 'nitrogen_fixation'\n",
       "28. 'nitrite_respiration'\n",
       "29. 'cellulolysis'\n",
       "30. 'xylanolysis'\n",
       "31. 'dark_sulfide_oxidation'\n",
       "32. 'dark_sulfur_oxidation'\n",
       "33. 'dark_thiosulfate_oxidation'\n",
       "34. 'dark_oxidation_of_sulfur_compounds'\n",
       "35. 'manganese_oxidation'\n",
       "36. 'manganese_respiration'\n",
       "37. 'fermentation'\n",
       "38. 'aerobic_chemoheterotrophy'\n",
       "39. 'human_pathogens_septicemia'\n",
       "40. 'human_pathogens_all'\n",
       "41. 'human_gut'\n",
       "42. 'mammal_gut'\n",
       "43. 'animal_parasites_or_symbionts'\n",
       "44. 'aromatic_hydrocarbon_degradation'\n",
       "45. 'aromatic_compound_degradation'\n",
       "46. 'aliphatic_non_methane_hydrocarbon_degradation'\n",
       "47. 'hydrocarbon_degradation'\n",
       "48. 'dark_iron_oxidation'\n",
       "49. 'iron_respiration'\n",
       "50. 'nitrate_respiration'\n",
       "51. 'nitrate_reduction'\n",
       "52. 'nitrogen_respiration'\n",
       "53. 'fumarate_respiration'\n",
       "54. 'intracellular_parasites'\n",
       "55. 'chlorate_reducers'\n",
       "56. 'predatory_or_exoparasitic'\n",
       "57. 'chloroplasts'\n",
       "58. 'cyanobacteria'\n",
       "59. 'anoxygenic_photoautotrophy_H2_oxidizing'\n",
       "60. 'anoxygenic_photoautotrophy_S_oxidizing'\n",
       "61. 'anoxygenic_photoautotrophy_Fe_oxidizing'\n",
       "62. 'anoxygenic_photoautotrophy'\n",
       "63. 'oxygenic_photoautotrophy'\n",
       "64. 'photoautotrophy'\n",
       "65. 'aerobic_anoxygenic_phototrophy'\n",
       "66. 'photoheterotrophy'\n",
       "67. 'phototrophy'\n",
       "68. 'ureolysis'\n",
       "69. 'chemoheterotrophy'\n",
       "\n",
       "\n"
      ],
      "text/plain": [
       " [1] \"methanotrophy\"                                          \n",
       " [2] \"acetoclastic_methanogenesis\"                            \n",
       " [3] \"methanogenesis_by_disproportionation_of_methyl_groups\"  \n",
       " [4] \"methanogenesis_using_formate\"                           \n",
       " [5] \"methanogenesis_by_CO2_reduction_with_H2\"                \n",
       " [6] \"methanogenesis_by_reduction_of_methyl_compounds_with_H2\"\n",
       " [7] \"hydrogenotrophic_methanogenesis\"                        \n",
       " [8] \"methanogenesis\"                                         \n",
       " [9] \"methanol_oxidation\"                                     \n",
       "[10] \"methylotrophy\"                                          \n",
       "[11] \"aerobic_ammonia_oxidation\"                              \n",
       "[12] \"aerobic_nitrite_oxidation\"                              \n",
       "[13] \"nitrification\"                                          \n",
       "[14] \"sulfate_respiration\"                                    \n",
       "[15] \"sulfur_respiration\"                                     \n",
       "[16] \"dark_sulfite_oxidation\"                                 \n",
       "[17] \"sulfite_respiration\"                                    \n",
       "[18] \"thiosulfate_respiration\"                                \n",
       "[19] \"respiration_of_sulfur_compounds\"                        \n",
       "[20] \"anammox\"                                                \n",
       "[21] \"nitrate_denitrification\"                                \n",
       "[22] \"nitrite_denitrification\"                                \n",
       "[23] \"nitrous_oxide_denitrification\"                          \n",
       "[24] \"denitrification\"                                        \n",
       "[25] \"chitinolysis\"                                           \n",
       "[26] \"dark_hydrogen_oxidation\"                                \n",
       "[27] \"nitrogen_fixation\"                                      \n",
       "[28] \"nitrite_respiration\"                                    \n",
       "[29] \"cellulolysis\"                                           \n",
       "[30] \"xylanolysis\"                                            \n",
       "[31] \"dark_sulfide_oxidation\"                                 \n",
       "[32] \"dark_sulfur_oxidation\"                                  \n",
       "[33] \"dark_thiosulfate_oxidation\"                             \n",
       "[34] \"dark_oxidation_of_sulfur_compounds\"                     \n",
       "[35] \"manganese_oxidation\"                                    \n",
       "[36] \"manganese_respiration\"                                  \n",
       "[37] \"fermentation\"                                           \n",
       "[38] \"aerobic_chemoheterotrophy\"                              \n",
       "[39] \"human_pathogens_septicemia\"                             \n",
       "[40] \"human_pathogens_all\"                                    \n",
       "[41] \"human_gut\"                                              \n",
       "[42] \"mammal_gut\"                                             \n",
       "[43] \"animal_parasites_or_symbionts\"                          \n",
       "[44] \"aromatic_hydrocarbon_degradation\"                       \n",
       "[45] \"aromatic_compound_degradation\"                          \n",
       "[46] \"aliphatic_non_methane_hydrocarbon_degradation\"          \n",
       "[47] \"hydrocarbon_degradation\"                                \n",
       "[48] \"dark_iron_oxidation\"                                    \n",
       "[49] \"iron_respiration\"                                       \n",
       "[50] \"nitrate_respiration\"                                    \n",
       "[51] \"nitrate_reduction\"                                      \n",
       "[52] \"nitrogen_respiration\"                                   \n",
       "[53] \"fumarate_respiration\"                                   \n",
       "[54] \"intracellular_parasites\"                                \n",
       "[55] \"chlorate_reducers\"                                      \n",
       "[56] \"predatory_or_exoparasitic\"                              \n",
       "[57] \"chloroplasts\"                                           \n",
       "[58] \"cyanobacteria\"                                          \n",
       "[59] \"anoxygenic_photoautotrophy_H2_oxidizing\"                \n",
       "[60] \"anoxygenic_photoautotrophy_S_oxidizing\"                 \n",
       "[61] \"anoxygenic_photoautotrophy_Fe_oxidizing\"                \n",
       "[62] \"anoxygenic_photoautotrophy\"                             \n",
       "[63] \"oxygenic_photoautotrophy\"                               \n",
       "[64] \"photoautotrophy\"                                        \n",
       "[65] \"aerobic_anoxygenic_phototrophy\"                         \n",
       "[66] \"photoheterotrophy\"                                      \n",
       "[67] \"phototrophy\"                                            \n",
       "[68] \"ureolysis\"                                              \n",
       "[69] \"chemoheterotrophy\"                                      "
      ]
     },
     "metadata": {},
     "output_type": "display_data"
    }
   ],
   "source": [
    "colnames(data_objects$Fxn.SILVA)"
   ]
  },
  {
   "cell_type": "code",
   "execution_count": 7,
   "id": "focal-essex",
   "metadata": {},
   "outputs": [],
   "source": [
    "to_drop = c('methylotrophy', 'aerobic_ammonia_oxidation', 'sulfate_respiration',\n",
    "            'dark_sulfite_oxidation', 'arsenate_respiration', 'nitrite_ammonification',\n",
    "            'dissimilatory_arsenate_reduction', 'nitrite_denitrification', \n",
    "            'nitrous_oxide_denitrification', 'nitrate_denitrification', 'fumarate_respiration',\n",
    "            'mammal_gut', 'plant_pathogen',  'cyanobacteria', 'phototrophy', \n",
    "            'anoxygenic_photoautotrophy_S_oxidizing', 'anoxygenic_photoautotrophy_Fe_oxidizing',\n",
    "            'nitrate_respiration', 'aliphatic_non_methane_hydrocarbon_degradation', \n",
    "            'aerobic_chemoheterotrophy', 'nitrite_respiration', 'dark_sulfide_oxidation')\n",
    "\n",
    "data_objects[['Taxa.Family']] = data.matrix(clr(data_objects[['Taxa.Family']] + 0.1))\n",
    "data_objects[['ASV.OEU']] = data.matrix(clr(data_objects[['ASV.OEU']] + 0.1))\n",
    "data_objects[['Fxn.SILVA']] = data.matrix(clr(data_objects[['Fxn.SILVA']] + 0.1))\n",
    "data_objects[['Fxn.SILVA']] = data_objects[['Fxn.SILVA']][,which(!(colnames(data_objects$Fxn.SILVA) %in% to_drop))]\n"
   ]
  },
  {
   "cell_type": "code",
   "execution_count": 8,
   "id": "authentic-schema",
   "metadata": {},
   "outputs": [
    {
     "name": "stderr",
     "output_type": "stream",
     "text": [
      "Loading required package: lattice\n",
      "\n",
      "Loading required package: ggplot2\n",
      "\n",
      "\n",
      "Attaching package: ‘caret’\n",
      "\n",
      "\n",
      "The following object is masked from ‘package:compositions’:\n",
      "\n",
      "    R2\n",
      "\n",
      "\n",
      "The following object is masked from ‘package:survival’:\n",
      "\n",
      "    cluster\n",
      "\n",
      "\n"
     ]
    }
   ],
   "source": [
    "library(caret)"
   ]
  },
  {
   "cell_type": "code",
   "execution_count": 9,
   "id": "irish-brazilian",
   "metadata": {},
   "outputs": [],
   "source": [
    "tax_df = read.delim('../data/otu_annotations_faprotax_oeu_taxonomy.txt', row.names=1, sep=\"\\t\")"
   ]
  },
  {
   "cell_type": "code",
   "execution_count": 10,
   "id": "informational-mentor",
   "metadata": {
    "scrolled": true
   },
   "outputs": [
    {
     "data": {
      "text/plain": [
       "\n",
       "Recursive feature selection\n",
       "\n",
       "Outer resampling method: Cross-Validated (10 fold, repeated 1 times) \n",
       "\n",
       "Resampling performance over subset size:\n",
       "\n",
       " Variables Accuracy  Kappa AccuracySD KappaSD Selected\n",
       "         1   0.8800 0.6052    0.04767  0.1758         \n",
       "         2   0.8969 0.6585    0.04640  0.1520         \n",
       "         3   0.9096 0.6967    0.04746  0.1713         \n",
       "         4   0.9097 0.7075    0.06747  0.2268         \n",
       "         5   0.9222 0.7395    0.05977  0.2205         \n",
       "         6   0.9270 0.7671    0.06359  0.2272         \n",
       "         7   0.9355 0.7865    0.06096  0.2279         \n",
       "         8   0.9357 0.7864    0.05719  0.2209         \n",
       "         9   0.9398 0.7967    0.05717  0.2229        *\n",
       "        10   0.9315 0.7774    0.06017  0.2230         \n",
       "      1349   0.9311 0.7548    0.05763  0.2280         \n",
       "\n",
       "The top 5 variables (out of 9):\n",
       "   OTU31, OTU629, OTU48, OTU388, OTU334\n"
      ]
     },
     "metadata": {},
     "output_type": "display_data"
    },
    {
     "data": {
      "text/html": [
       "<table class=\"dataframe\">\n",
       "<caption>A data.frame: 19 × 7</caption>\n",
       "<thead>\n",
       "\t<tr><th></th><th scope=col>Kingdom</th><th scope=col>Phylum</th><th scope=col>Class</th><th scope=col>Order</th><th scope=col>Family</th><th scope=col>Genus</th><th scope=col>Species</th></tr>\n",
       "\t<tr><th></th><th scope=col>&lt;chr&gt;</th><th scope=col>&lt;chr&gt;</th><th scope=col>&lt;chr&gt;</th><th scope=col>&lt;chr&gt;</th><th scope=col>&lt;chr&gt;</th><th scope=col>&lt;chr&gt;</th><th scope=col>&lt;chr&gt;</th></tr>\n",
       "</thead>\n",
       "<tbody>\n",
       "\t<tr><th scope=row>OTU31</th><td>Bacteria</td><td>Proteobacteria </td><td>Alphaproteobacteria</td><td>Rhodobacterales      </td><td>Rhodobacteraceae      </td><td>                   </td><td>                </td></tr>\n",
       "\t<tr><th scope=row>OTU629</th><td>Bacteria</td><td>Proteobacteria </td><td>Alphaproteobacteria</td><td>                     </td><td>                      </td><td>                   </td><td>                </td></tr>\n",
       "\t<tr><th scope=row>OTU388</th><td>Bacteria</td><td>Proteobacteria </td><td>Alphaproteobacteria</td><td>Rhodospirillales     </td><td>Magnetospiraceae      </td><td>                   </td><td>                </td></tr>\n",
       "\t<tr><th scope=row>OTU48</th><td>Bacteria</td><td>Proteobacteria </td><td>Gammaproteobacteria</td><td>Chromatiales         </td><td>Sedimenticolaceae     </td><td>Sedimenticola      </td><td>selenatireducens</td></tr>\n",
       "\t<tr><th scope=row>OTU408</th><td>Bacteria</td><td>Proteobacteria </td><td>Deltaproteobacteria</td><td>Bdellovibrionales    </td><td>Bdellovibrionaceae    </td><td>OM27_clade         </td><td>                </td></tr>\n",
       "\t<tr><th scope=row>OTU334</th><td>Bacteria</td><td>Proteobacteria </td><td>Alphaproteobacteria</td><td>Rhodospirillales     </td><td>Rhodospirillaceae     </td><td>                   </td><td>                </td></tr>\n",
       "\t<tr><th scope=row>OTU545</th><td>Bacteria</td><td>Proteobacteria </td><td>Alphaproteobacteria</td><td>Rhodobacterales      </td><td>Rhodobacteraceae      </td><td>Maritimibacter     </td><td>                </td></tr>\n",
       "\t<tr><th scope=row>OTU394</th><td>Bacteria</td><td>Proteobacteria </td><td>Alphaproteobacteria</td><td>NRL2                 </td><td>                      </td><td>                   </td><td>                </td></tr>\n",
       "\t<tr><th scope=row>OTU546</th><td>Bacteria</td><td>Planctomycetes </td><td>OM190              </td><td>                     </td><td>                      </td><td>                   </td><td>                </td></tr>\n",
       "\t<tr><th scope=row>OTU164</th><td>Bacteria</td><td>Proteobacteria </td><td>Gammaproteobacteria</td><td>Chromatiales         </td><td>Chromatiaceae         </td><td>Candidatus_Thiobios</td><td>                </td></tr>\n",
       "\t<tr><th scope=row>OTU355</th><td>Bacteria</td><td>Calditrichaeota</td><td>Calditrichia       </td><td>Calditrichales       </td><td>Calditrichaceae       </td><td>Caldithrix         </td><td>                </td></tr>\n",
       "\t<tr><th scope=row>OTU917</th><td>Bacteria</td><td>Proteobacteria </td><td>Alphaproteobacteria</td><td>Rhodobacterales      </td><td>Rhodobacteraceae      </td><td>                   </td><td>                </td></tr>\n",
       "\t<tr><th scope=row>OTU181</th><td>Bacteria</td><td>Latescibacteria</td><td>                   </td><td>                     </td><td>                      </td><td>                   </td><td>                </td></tr>\n",
       "\t<tr><th scope=row>OTU559</th><td>Bacteria</td><td>Proteobacteria </td><td>Alphaproteobacteria</td><td>                     </td><td>                      </td><td>                   </td><td>                </td></tr>\n",
       "\t<tr><th scope=row>OTU81</th><td>Bacteria</td><td>Proteobacteria </td><td>Gammaproteobacteria</td><td>Chromatiales         </td><td>                      </td><td>                   </td><td>                </td></tr>\n",
       "\t<tr><th scope=row>OTU2</th><td>Bacteria</td><td>Proteobacteria </td><td>Gammaproteobacteria</td><td>Ectothiorhodospirales</td><td>Ectothiorhodospiraceae</td><td>                   </td><td>                </td></tr>\n",
       "\t<tr><th scope=row>OTU562</th><td>Bacteria</td><td>Proteobacteria </td><td>Gammaproteobacteria</td><td>OM182_clade          </td><td>                      </td><td>                   </td><td>                </td></tr>\n",
       "\t<tr><th scope=row>OTU710</th><td>Bacteria</td><td>Planctomycetes </td><td>Phycisphaerae      </td><td>Phycisphaerales      </td><td>Phycisphaeraceae      </td><td>                   </td><td>                </td></tr>\n",
       "\t<tr><th scope=row>OTU454</th><td>Bacteria</td><td>Planctomycetes </td><td>OM190              </td><td>                     </td><td>                      </td><td>                   </td><td>                </td></tr>\n",
       "</tbody>\n",
       "</table>\n"
      ],
      "text/latex": [
       "A data.frame: 19 × 7\n",
       "\\begin{tabular}{r|lllllll}\n",
       "  & Kingdom & Phylum & Class & Order & Family & Genus & Species\\\\\n",
       "  & <chr> & <chr> & <chr> & <chr> & <chr> & <chr> & <chr>\\\\\n",
       "\\hline\n",
       "\tOTU31 & Bacteria & Proteobacteria  & Alphaproteobacteria & Rhodobacterales       & Rhodobacteraceae       &                     &                 \\\\\n",
       "\tOTU629 & Bacteria & Proteobacteria  & Alphaproteobacteria &                       &                        &                     &                 \\\\\n",
       "\tOTU388 & Bacteria & Proteobacteria  & Alphaproteobacteria & Rhodospirillales      & Magnetospiraceae       &                     &                 \\\\\n",
       "\tOTU48 & Bacteria & Proteobacteria  & Gammaproteobacteria & Chromatiales          & Sedimenticolaceae      & Sedimenticola       & selenatireducens\\\\\n",
       "\tOTU408 & Bacteria & Proteobacteria  & Deltaproteobacteria & Bdellovibrionales     & Bdellovibrionaceae     & OM27\\_clade          &                 \\\\\n",
       "\tOTU334 & Bacteria & Proteobacteria  & Alphaproteobacteria & Rhodospirillales      & Rhodospirillaceae      &                     &                 \\\\\n",
       "\tOTU545 & Bacteria & Proteobacteria  & Alphaproteobacteria & Rhodobacterales       & Rhodobacteraceae       & Maritimibacter      &                 \\\\\n",
       "\tOTU394 & Bacteria & Proteobacteria  & Alphaproteobacteria & NRL2                  &                        &                     &                 \\\\\n",
       "\tOTU546 & Bacteria & Planctomycetes  & OM190               &                       &                        &                     &                 \\\\\n",
       "\tOTU164 & Bacteria & Proteobacteria  & Gammaproteobacteria & Chromatiales          & Chromatiaceae          & Candidatus\\_Thiobios &                 \\\\\n",
       "\tOTU355 & Bacteria & Calditrichaeota & Calditrichia        & Calditrichales        & Calditrichaceae        & Caldithrix          &                 \\\\\n",
       "\tOTU917 & Bacteria & Proteobacteria  & Alphaproteobacteria & Rhodobacterales       & Rhodobacteraceae       &                     &                 \\\\\n",
       "\tOTU181 & Bacteria & Latescibacteria &                     &                       &                        &                     &                 \\\\\n",
       "\tOTU559 & Bacteria & Proteobacteria  & Alphaproteobacteria &                       &                        &                     &                 \\\\\n",
       "\tOTU81 & Bacteria & Proteobacteria  & Gammaproteobacteria & Chromatiales          &                        &                     &                 \\\\\n",
       "\tOTU2 & Bacteria & Proteobacteria  & Gammaproteobacteria & Ectothiorhodospirales & Ectothiorhodospiraceae &                     &                 \\\\\n",
       "\tOTU562 & Bacteria & Proteobacteria  & Gammaproteobacteria & OM182\\_clade           &                        &                     &                 \\\\\n",
       "\tOTU710 & Bacteria & Planctomycetes  & Phycisphaerae       & Phycisphaerales       & Phycisphaeraceae       &                     &                 \\\\\n",
       "\tOTU454 & Bacteria & Planctomycetes  & OM190               &                       &                        &                     &                 \\\\\n",
       "\\end{tabular}\n"
      ],
      "text/markdown": [
       "\n",
       "A data.frame: 19 × 7\n",
       "\n",
       "| <!--/--> | Kingdom &lt;chr&gt; | Phylum &lt;chr&gt; | Class &lt;chr&gt; | Order &lt;chr&gt; | Family &lt;chr&gt; | Genus &lt;chr&gt; | Species &lt;chr&gt; |\n",
       "|---|---|---|---|---|---|---|---|\n",
       "| OTU31 | Bacteria | Proteobacteria  | Alphaproteobacteria | Rhodobacterales       | Rhodobacteraceae       | <!----> | <!----> |\n",
       "| OTU629 | Bacteria | Proteobacteria  | Alphaproteobacteria | <!----> | <!----> | <!----> | <!----> |\n",
       "| OTU388 | Bacteria | Proteobacteria  | Alphaproteobacteria | Rhodospirillales      | Magnetospiraceae       | <!----> | <!----> |\n",
       "| OTU48 | Bacteria | Proteobacteria  | Gammaproteobacteria | Chromatiales          | Sedimenticolaceae      | Sedimenticola       | selenatireducens |\n",
       "| OTU408 | Bacteria | Proteobacteria  | Deltaproteobacteria | Bdellovibrionales     | Bdellovibrionaceae     | OM27_clade          | <!----> |\n",
       "| OTU334 | Bacteria | Proteobacteria  | Alphaproteobacteria | Rhodospirillales      | Rhodospirillaceae      | <!----> | <!----> |\n",
       "| OTU545 | Bacteria | Proteobacteria  | Alphaproteobacteria | Rhodobacterales       | Rhodobacteraceae       | Maritimibacter      | <!----> |\n",
       "| OTU394 | Bacteria | Proteobacteria  | Alphaproteobacteria | NRL2                  | <!----> | <!----> | <!----> |\n",
       "| OTU546 | Bacteria | Planctomycetes  | OM190               | <!----> | <!----> | <!----> | <!----> |\n",
       "| OTU164 | Bacteria | Proteobacteria  | Gammaproteobacteria | Chromatiales          | Chromatiaceae          | Candidatus_Thiobios | <!----> |\n",
       "| OTU355 | Bacteria | Calditrichaeota | Calditrichia        | Calditrichales        | Calditrichaceae        | Caldithrix          | <!----> |\n",
       "| OTU917 | Bacteria | Proteobacteria  | Alphaproteobacteria | Rhodobacterales       | Rhodobacteraceae       | <!----> | <!----> |\n",
       "| OTU181 | Bacteria | Latescibacteria | <!----> | <!----> | <!----> | <!----> | <!----> |\n",
       "| OTU559 | Bacteria | Proteobacteria  | Alphaproteobacteria | <!----> | <!----> | <!----> | <!----> |\n",
       "| OTU81 | Bacteria | Proteobacteria  | Gammaproteobacteria | Chromatiales          | <!----> | <!----> | <!----> |\n",
       "| OTU2 | Bacteria | Proteobacteria  | Gammaproteobacteria | Ectothiorhodospirales | Ectothiorhodospiraceae | <!----> | <!----> |\n",
       "| OTU562 | Bacteria | Proteobacteria  | Gammaproteobacteria | OM182_clade           | <!----> | <!----> | <!----> |\n",
       "| OTU710 | Bacteria | Planctomycetes  | Phycisphaerae       | Phycisphaerales       | Phycisphaeraceae       | <!----> | <!----> |\n",
       "| OTU454 | Bacteria | Planctomycetes  | OM190               | <!----> | <!----> | <!----> | <!----> |\n",
       "\n"
      ],
      "text/plain": [
       "       Kingdom  Phylum          Class               Order                \n",
       "OTU31  Bacteria Proteobacteria  Alphaproteobacteria Rhodobacterales      \n",
       "OTU629 Bacteria Proteobacteria  Alphaproteobacteria                      \n",
       "OTU388 Bacteria Proteobacteria  Alphaproteobacteria Rhodospirillales     \n",
       "OTU48  Bacteria Proteobacteria  Gammaproteobacteria Chromatiales         \n",
       "OTU408 Bacteria Proteobacteria  Deltaproteobacteria Bdellovibrionales    \n",
       "OTU334 Bacteria Proteobacteria  Alphaproteobacteria Rhodospirillales     \n",
       "OTU545 Bacteria Proteobacteria  Alphaproteobacteria Rhodobacterales      \n",
       "OTU394 Bacteria Proteobacteria  Alphaproteobacteria NRL2                 \n",
       "OTU546 Bacteria Planctomycetes  OM190                                    \n",
       "OTU164 Bacteria Proteobacteria  Gammaproteobacteria Chromatiales         \n",
       "OTU355 Bacteria Calditrichaeota Calditrichia        Calditrichales       \n",
       "OTU917 Bacteria Proteobacteria  Alphaproteobacteria Rhodobacterales      \n",
       "OTU181 Bacteria Latescibacteria                                          \n",
       "OTU559 Bacteria Proteobacteria  Alphaproteobacteria                      \n",
       "OTU81  Bacteria Proteobacteria  Gammaproteobacteria Chromatiales         \n",
       "OTU2   Bacteria Proteobacteria  Gammaproteobacteria Ectothiorhodospirales\n",
       "OTU562 Bacteria Proteobacteria  Gammaproteobacteria OM182_clade          \n",
       "OTU710 Bacteria Planctomycetes  Phycisphaerae       Phycisphaerales      \n",
       "OTU454 Bacteria Planctomycetes  OM190                                    \n",
       "       Family                 Genus               Species         \n",
       "OTU31  Rhodobacteraceae                                           \n",
       "OTU629                                                            \n",
       "OTU388 Magnetospiraceae                                           \n",
       "OTU48  Sedimenticolaceae      Sedimenticola       selenatireducens\n",
       "OTU408 Bdellovibrionaceae     OM27_clade                          \n",
       "OTU334 Rhodospirillaceae                                          \n",
       "OTU545 Rhodobacteraceae       Maritimibacter                      \n",
       "OTU394                                                            \n",
       "OTU546                                                            \n",
       "OTU164 Chromatiaceae          Candidatus_Thiobios                 \n",
       "OTU355 Calditrichaceae        Caldithrix                          \n",
       "OTU917 Rhodobacteraceae                                           \n",
       "OTU181                                                            \n",
       "OTU559                                                            \n",
       "OTU81                                                             \n",
       "OTU2   Ectothiorhodospiraceae                                     \n",
       "OTU562                                                            \n",
       "OTU710 Phycisphaeraceae                                           \n",
       "OTU454                                                            "
      ]
     },
     "metadata": {},
     "output_type": "display_data"
    },
    {
     "data": {
      "text/html": [
       "<table class=\"dataframe\">\n",
       "<caption>A matrix: 1 × 19 of type dbl</caption>\n",
       "<thead>\n",
       "\t<tr><th scope=col>OTU31</th><th scope=col>OTU629</th><th scope=col>OTU388</th><th scope=col>OTU48</th><th scope=col>OTU408</th><th scope=col>OTU334</th><th scope=col>OTU545</th><th scope=col>OTU394</th><th scope=col>OTU546</th><th scope=col>OTU164</th><th scope=col>OTU355</th><th scope=col>OTU917</th><th scope=col>OTU181</th><th scope=col>OTU559</th><th scope=col>OTU81</th><th scope=col>OTU2</th><th scope=col>OTU562</th><th scope=col>OTU710</th><th scope=col>OTU454</th></tr>\n",
       "</thead>\n",
       "<tbody>\n",
       "\t<tr><td>0.7030752</td><td>0.5691362</td><td>0.7152066</td><td>0.7310858</td><td>0.5391074</td><td>0.6777899</td><td>0.6549653</td><td>0.5042894</td><td>0.6024412</td><td>0.6725512</td><td>0.6488912</td><td>0.4632418</td><td>0.6424976</td><td>0.5880961</td><td>0.5574683</td><td>0.6953427</td><td>0.5236502</td><td>0.5880536</td><td>0.6205925</td></tr>\n",
       "</tbody>\n",
       "</table>\n"
      ],
      "text/latex": [
       "A matrix: 1 × 19 of type dbl\n",
       "\\begin{tabular}{lllllllllllllllllll}\n",
       " OTU31 & OTU629 & OTU388 & OTU48 & OTU408 & OTU334 & OTU545 & OTU394 & OTU546 & OTU164 & OTU355 & OTU917 & OTU181 & OTU559 & OTU81 & OTU2 & OTU562 & OTU710 & OTU454\\\\\n",
       "\\hline\n",
       "\t 0.7030752 & 0.5691362 & 0.7152066 & 0.7310858 & 0.5391074 & 0.6777899 & 0.6549653 & 0.5042894 & 0.6024412 & 0.6725512 & 0.6488912 & 0.4632418 & 0.6424976 & 0.5880961 & 0.5574683 & 0.6953427 & 0.5236502 & 0.5880536 & 0.6205925\\\\\n",
       "\\end{tabular}\n"
      ],
      "text/markdown": [
       "\n",
       "A matrix: 1 × 19 of type dbl\n",
       "\n",
       "| OTU31 | OTU629 | OTU388 | OTU48 | OTU408 | OTU334 | OTU545 | OTU394 | OTU546 | OTU164 | OTU355 | OTU917 | OTU181 | OTU559 | OTU81 | OTU2 | OTU562 | OTU710 | OTU454 |\n",
       "|---|---|---|---|---|---|---|---|---|---|---|---|---|---|---|---|---|---|---|\n",
       "| 0.7030752 | 0.5691362 | 0.7152066 | 0.7310858 | 0.5391074 | 0.6777899 | 0.6549653 | 0.5042894 | 0.6024412 | 0.6725512 | 0.6488912 | 0.4632418 | 0.6424976 | 0.5880961 | 0.5574683 | 0.6953427 | 0.5236502 | 0.5880536 | 0.6205925 |\n",
       "\n"
      ],
      "text/plain": [
       "     OTU31     OTU629    OTU388    OTU48     OTU408    OTU334    OTU545   \n",
       "[1,] 0.7030752 0.5691362 0.7152066 0.7310858 0.5391074 0.6777899 0.6549653\n",
       "     OTU394    OTU546    OTU164    OTU355    OTU917    OTU181    OTU559   \n",
       "[1,] 0.5042894 0.6024412 0.6725512 0.6488912 0.4632418 0.6424976 0.5880961\n",
       "     OTU81     OTU2      OTU562    OTU710    OTU454   \n",
       "[1,] 0.5574683 0.6953427 0.5236502 0.5880536 0.6205925"
      ]
     },
     "metadata": {},
     "output_type": "display_data"
    }
   ],
   "source": [
    "set.seed(123)\n",
    "mixed_data = cbind.data.frame(env_data[,'hypoxia'], ra_rar_df)\n",
    "colnames(mixed_data) <- c('hypoxia', colnames(ra_rar_df))\n",
    "\n",
    "# define the control using a random forest selection function\n",
    "control <- rfeControl(functions=rfFuncs, method=\"repeatedcv\", number=10)\n",
    "# run the RFE algorithm\n",
    "results <- rfe(mixed_data[,2:ncol(mixed_data)], mixed_data[,1], sizes=1:10, metric='Accuracy', \n",
    "               rfeControl=control)\n",
    "# summarize the results\n",
    "results\n",
    "rfe_imp_scaled <- varImp(results, scale = TRUE)\n",
    "tax_df[rownames(rfe_imp_scaled)[which(rfe_imp_scaled > 2.5)],1:7]\n",
    "cor(as.integer(mixed_data$hypoxia), mixed_data[,rownames(rfe_imp_scaled)[which(rfe_imp_scaled > 2.5)]])"
   ]
  },
  {
   "cell_type": "code",
   "execution_count": 13,
   "id": "verified-guyana",
   "metadata": {},
   "outputs": [],
   "source": [
    "\n",
    "write.table(rfe_imp_scaled, file = \"/Volumes/KeithSSD/ChesapeakeMicrobiome/data/tosarah/OTU_random_forest_variable_importance_hypoxia.txt\", row.names = T)"
   ]
  },
  {
   "cell_type": "code",
   "execution_count": null,
   "id": "identified-return",
   "metadata": {},
   "outputs": [],
   "source": [
    "\n"
   ]
  },
  {
   "cell_type": "code",
   "execution_count": 14,
   "id": "little-spotlight",
   "metadata": {},
   "outputs": [
    {
     "data": {
      "text/plain": [
       "\n",
       "Recursive feature selection\n",
       "\n",
       "Outer resampling method: Cross-Validated (10 fold, repeated 1 times) \n",
       "\n",
       "Resampling performance over subset size:\n",
       "\n",
       " Variables Accuracy  Kappa AccuracySD KappaSD Selected\n",
       "         4   0.9186 0.7257    0.05703  0.2231         \n",
       "         5   0.9094 0.7173    0.06845  0.2041         \n",
       "         6   0.9185 0.7303    0.06729  0.2416         \n",
       "         7   0.9270 0.7512    0.06278  0.2366         \n",
       "         8   0.9272 0.7499    0.06260  0.2373        *\n",
       "         9   0.9272 0.7499    0.06260  0.2373         \n",
       "        10   0.9272 0.7506    0.05915  0.2277         \n",
       "        11   0.9139 0.7036    0.06285  0.2403         \n",
       "        12   0.9224 0.7306    0.06220  0.2414         \n",
       "        13   0.9137 0.7038    0.06623  0.2489         \n",
       "       477   0.9188 0.7004    0.05397  0.2212         \n",
       "\n",
       "The top 5 variables (out of 8):\n",
       "   Magnetococcales.Magnetococcaceae, Chromatiales.Sedimenticolaceae, Clostridiales.Family_XII, Chromatiales.Chromatiaceae, Thiomicrospirales.Thiomicrospiraceae\n"
      ]
     },
     "metadata": {},
     "output_type": "display_data"
    },
    {
     "data": {
      "text/html": [
       "<table class=\"dataframe\">\n",
       "<caption>A data.frame: 6 × 1</caption>\n",
       "<thead>\n",
       "\t<tr><th></th><th scope=col>Overall</th></tr>\n",
       "\t<tr><th></th><th scope=col>&lt;dbl&gt;</th></tr>\n",
       "</thead>\n",
       "<tbody>\n",
       "\t<tr><th scope=row>Magnetococcales.Magnetococcaceae</th><td>8.215634</td></tr>\n",
       "\t<tr><th scope=row>Chromatiales.Sedimenticolaceae</th><td>5.767022</td></tr>\n",
       "\t<tr><th scope=row>Clostridiales.Family_XII</th><td>5.393779</td></tr>\n",
       "\t<tr><th scope=row>Chromatiales.Chromatiaceae</th><td>5.170746</td></tr>\n",
       "\t<tr><th scope=row>Thiomicrospirales.Thiomicrospiraceae</th><td>5.021238</td></tr>\n",
       "\t<tr><th scope=row>Puniceispirillales.EF100.94H03</th><td>5.004713</td></tr>\n",
       "</tbody>\n",
       "</table>\n"
      ],
      "text/latex": [
       "A data.frame: 6 × 1\n",
       "\\begin{tabular}{r|l}\n",
       "  & Overall\\\\\n",
       "  & <dbl>\\\\\n",
       "\\hline\n",
       "\tMagnetococcales.Magnetococcaceae & 8.215634\\\\\n",
       "\tChromatiales.Sedimenticolaceae & 5.767022\\\\\n",
       "\tClostridiales.Family\\_XII & 5.393779\\\\\n",
       "\tChromatiales.Chromatiaceae & 5.170746\\\\\n",
       "\tThiomicrospirales.Thiomicrospiraceae & 5.021238\\\\\n",
       "\tPuniceispirillales.EF100.94H03 & 5.004713\\\\\n",
       "\\end{tabular}\n"
      ],
      "text/markdown": [
       "\n",
       "A data.frame: 6 × 1\n",
       "\n",
       "| <!--/--> | Overall &lt;dbl&gt; |\n",
       "|---|---|\n",
       "| Magnetococcales.Magnetococcaceae | 8.215634 |\n",
       "| Chromatiales.Sedimenticolaceae | 5.767022 |\n",
       "| Clostridiales.Family_XII | 5.393779 |\n",
       "| Chromatiales.Chromatiaceae | 5.170746 |\n",
       "| Thiomicrospirales.Thiomicrospiraceae | 5.021238 |\n",
       "| Puniceispirillales.EF100.94H03 | 5.004713 |\n",
       "\n"
      ],
      "text/plain": [
       "                                     Overall \n",
       "Magnetococcales.Magnetococcaceae     8.215634\n",
       "Chromatiales.Sedimenticolaceae       5.767022\n",
       "Clostridiales.Family_XII             5.393779\n",
       "Chromatiales.Chromatiaceae           5.170746\n",
       "Thiomicrospirales.Thiomicrospiraceae 5.021238\n",
       "Puniceispirillales.EF100.94H03       5.004713"
      ]
     },
     "metadata": {},
     "output_type": "display_data"
    },
    {
     "data": {
      "text/html": [
       "<table class=\"dataframe\">\n",
       "<caption>A matrix: 1 × 15 of type dbl</caption>\n",
       "<thead>\n",
       "\t<tr><th scope=col>Magnetococcales.Magnetococcaceae</th><th scope=col>Chromatiales.Sedimenticolaceae</th><th scope=col>Clostridiales.Family_XII</th><th scope=col>Chromatiales.Chromatiaceae</th><th scope=col>Thiomicrospirales.Thiomicrospiraceae</th><th scope=col>Puniceispirillales.EF100.94H03</th><th scope=col>Clostridiales.Peptostreptococcaceae</th><th scope=col>Desulfovibrionales.Desulfovibrionaceae</th><th scope=col>Methylococcales.Methylomonaceae</th><th scope=col>Chitinivibrionales.Chitinivibrionaceae</th><th scope=col>Syntrophobacterales.Syntrophaceae</th><th scope=col>Sphingobacteriales.AKYH767</th><th scope=col>Chloroplast.Chloroplast</th><th scope=col>Bacteroidales.Marinifilaceae</th><th scope=col>Betaproteobacteriales.Gallionellaceae</th></tr>\n",
       "</thead>\n",
       "<tbody>\n",
       "\t<tr><td>0.7087023</td><td>0.518342</td><td>0.5386179</td><td>0.3974207</td><td>0.5283979</td><td>0.3968124</td><td>0.4844212</td><td>0.5408667</td><td>0.5079078</td><td>0.5091169</td><td>-0.2146982</td><td>-0.3056477</td><td>-0.5336895</td><td>0.4437231</td><td>0.4285922</td></tr>\n",
       "</tbody>\n",
       "</table>\n"
      ],
      "text/latex": [
       "A matrix: 1 × 15 of type dbl\n",
       "\\begin{tabular}{lllllllllllllll}\n",
       " Magnetococcales.Magnetococcaceae & Chromatiales.Sedimenticolaceae & Clostridiales.Family\\_XII & Chromatiales.Chromatiaceae & Thiomicrospirales.Thiomicrospiraceae & Puniceispirillales.EF100.94H03 & Clostridiales.Peptostreptococcaceae & Desulfovibrionales.Desulfovibrionaceae & Methylococcales.Methylomonaceae & Chitinivibrionales.Chitinivibrionaceae & Syntrophobacterales.Syntrophaceae & Sphingobacteriales.AKYH767 & Chloroplast.Chloroplast & Bacteroidales.Marinifilaceae & Betaproteobacteriales.Gallionellaceae\\\\\n",
       "\\hline\n",
       "\t 0.7087023 & 0.518342 & 0.5386179 & 0.3974207 & 0.5283979 & 0.3968124 & 0.4844212 & 0.5408667 & 0.5079078 & 0.5091169 & -0.2146982 & -0.3056477 & -0.5336895 & 0.4437231 & 0.4285922\\\\\n",
       "\\end{tabular}\n"
      ],
      "text/markdown": [
       "\n",
       "A matrix: 1 × 15 of type dbl\n",
       "\n",
       "| Magnetococcales.Magnetococcaceae | Chromatiales.Sedimenticolaceae | Clostridiales.Family_XII | Chromatiales.Chromatiaceae | Thiomicrospirales.Thiomicrospiraceae | Puniceispirillales.EF100.94H03 | Clostridiales.Peptostreptococcaceae | Desulfovibrionales.Desulfovibrionaceae | Methylococcales.Methylomonaceae | Chitinivibrionales.Chitinivibrionaceae | Syntrophobacterales.Syntrophaceae | Sphingobacteriales.AKYH767 | Chloroplast.Chloroplast | Bacteroidales.Marinifilaceae | Betaproteobacteriales.Gallionellaceae |\n",
       "|---|---|---|---|---|---|---|---|---|---|---|---|---|---|---|\n",
       "| 0.7087023 | 0.518342 | 0.5386179 | 0.3974207 | 0.5283979 | 0.3968124 | 0.4844212 | 0.5408667 | 0.5079078 | 0.5091169 | -0.2146982 | -0.3056477 | -0.5336895 | 0.4437231 | 0.4285922 |\n",
       "\n"
      ],
      "text/plain": [
       "     Magnetococcales.Magnetococcaceae Chromatiales.Sedimenticolaceae\n",
       "[1,] 0.7087023                        0.518342                      \n",
       "     Clostridiales.Family_XII Chromatiales.Chromatiaceae\n",
       "[1,] 0.5386179                0.3974207                 \n",
       "     Thiomicrospirales.Thiomicrospiraceae Puniceispirillales.EF100.94H03\n",
       "[1,] 0.5283979                            0.3968124                     \n",
       "     Clostridiales.Peptostreptococcaceae Desulfovibrionales.Desulfovibrionaceae\n",
       "[1,] 0.4844212                           0.5408667                             \n",
       "     Methylococcales.Methylomonaceae Chitinivibrionales.Chitinivibrionaceae\n",
       "[1,] 0.5079078                       0.5091169                             \n",
       "     Syntrophobacterales.Syntrophaceae Sphingobacteriales.AKYH767\n",
       "[1,] -0.2146982                        -0.3056477                \n",
       "     Chloroplast.Chloroplast Bacteroidales.Marinifilaceae\n",
       "[1,] -0.5336895              0.4437231                   \n",
       "     Betaproteobacteriales.Gallionellaceae\n",
       "[1,] 0.4285922                            "
      ]
     },
     "metadata": {},
     "output_type": "display_data"
    }
   ],
   "source": [
    "set.seed(123)\n",
    "mixed_data_tf = cbind.data.frame(env_data[,'hypoxia'], data_objects[['Taxa.Family']])\n",
    "colnames(mixed_data_tf) <- c('hypoxia', colnames(data_objects[['Taxa.Family']]))\n",
    "results <- rfe(mixed_data_tf[,2:ncol(mixed_data_tf)], mixed_data_tf[,1], sizes=4:13, \n",
    "               metric='Accuracy', rfeControl=control)\n",
    "# summarize the results\n",
    "results\n",
    "rfe_imp_scaled <- varImp(results, scale = TRUE)\n",
    "head(rfe_imp_scaled)\n",
    "cor(as.integer(mixed_data_tf$hypoxia), mixed_data_tf[,rownames(rfe_imp_scaled)[which(rfe_imp_scaled > 3)]])"
   ]
  },
  {
   "cell_type": "code",
   "execution_count": 15,
   "id": "reduced-discretion",
   "metadata": {},
   "outputs": [],
   "source": [
    "write.table(rfe_imp_scaled, file = \"/Volumes/KeithSSD/ChesapeakeMicrobiome/data/tosarah/TaxonomicFams_random_forest_variable_importance_hypoxia.txt\", row.names = T)"
   ]
  },
  {
   "cell_type": "code",
   "execution_count": 16,
   "id": "selective-election",
   "metadata": {},
   "outputs": [
    {
     "data": {
      "text/plain": [
       "\n",
       "Recursive feature selection\n",
       "\n",
       "Outer resampling method: Cross-Validated (10 fold, repeated 1 times) \n",
       "\n",
       "Resampling performance over subset size:\n",
       "\n",
       " Variables Accuracy  Kappa AccuracySD KappaSD Selected\n",
       "         5   0.9225 0.7607    0.06752  0.1943        *\n",
       "         6   0.9185 0.7426    0.06594  0.1970         \n",
       "         7   0.9185 0.7349    0.06594  0.2050         \n",
       "         8   0.9143 0.7158    0.05410  0.1822         \n",
       "         9   0.9143 0.7231    0.06138  0.1910         \n",
       "        10   0.9100 0.7139    0.06299  0.1903         \n",
       "        11   0.9143 0.7286    0.05815  0.1698         \n",
       "        12   0.9101 0.7096    0.05944  0.1831         \n",
       "        13   0.9052 0.6852    0.05350  0.1659         \n",
       "        14   0.9141 0.7230    0.06123  0.1909         \n",
       "        15   0.8973 0.6412    0.06398  0.2445         \n",
       "        51   0.9139 0.6909    0.04940  0.1836         \n",
       "\n",
       "The top 5 variables (out of 5):\n",
       "   chloroplasts, thiosulfate_respiration, sulfur_respiration, denitrification, methanotrophy\n"
      ]
     },
     "metadata": {},
     "output_type": "display_data"
    },
    {
     "data": {
      "text/html": [
       "<table class=\"dataframe\">\n",
       "<caption>A data.frame: 6 × 1</caption>\n",
       "<thead>\n",
       "\t<tr><th></th><th scope=col>Overall</th></tr>\n",
       "\t<tr><th></th><th scope=col>&lt;dbl&gt;</th></tr>\n",
       "</thead>\n",
       "<tbody>\n",
       "\t<tr><th scope=row>chloroplasts</th><td>10.960774</td></tr>\n",
       "\t<tr><th scope=row>thiosulfate_respiration</th><td> 9.652290</td></tr>\n",
       "\t<tr><th scope=row>methanotrophy</th><td> 9.523785</td></tr>\n",
       "\t<tr><th scope=row>sulfur_respiration</th><td> 9.329692</td></tr>\n",
       "\t<tr><th scope=row>denitrification</th><td> 9.204552</td></tr>\n",
       "\t<tr><th scope=row>anoxygenic_photoautotrophy</th><td> 8.729257</td></tr>\n",
       "</tbody>\n",
       "</table>\n"
      ],
      "text/latex": [
       "A data.frame: 6 × 1\n",
       "\\begin{tabular}{r|l}\n",
       "  & Overall\\\\\n",
       "  & <dbl>\\\\\n",
       "\\hline\n",
       "\tchloroplasts & 10.960774\\\\\n",
       "\tthiosulfate\\_respiration &  9.652290\\\\\n",
       "\tmethanotrophy &  9.523785\\\\\n",
       "\tsulfur\\_respiration &  9.329692\\\\\n",
       "\tdenitrification &  9.204552\\\\\n",
       "\tanoxygenic\\_photoautotrophy &  8.729257\\\\\n",
       "\\end{tabular}\n"
      ],
      "text/markdown": [
       "\n",
       "A data.frame: 6 × 1\n",
       "\n",
       "| <!--/--> | Overall &lt;dbl&gt; |\n",
       "|---|---|\n",
       "| chloroplasts | 10.960774 |\n",
       "| thiosulfate_respiration |  9.652290 |\n",
       "| methanotrophy |  9.523785 |\n",
       "| sulfur_respiration |  9.329692 |\n",
       "| denitrification |  9.204552 |\n",
       "| anoxygenic_photoautotrophy |  8.729257 |\n",
       "\n"
      ],
      "text/plain": [
       "                           Overall  \n",
       "chloroplasts               10.960774\n",
       "thiosulfate_respiration     9.652290\n",
       "methanotrophy               9.523785\n",
       "sulfur_respiration          9.329692\n",
       "denitrification             9.204552\n",
       "anoxygenic_photoautotrophy  8.729257"
      ]
     },
     "metadata": {},
     "output_type": "display_data"
    },
    {
     "data": {
      "text/html": [
       "<table class=\"dataframe\">\n",
       "<caption>A matrix: 1 × 6 of type dbl</caption>\n",
       "<thead>\n",
       "\t<tr><th scope=col>chloroplasts</th><th scope=col>thiosulfate_respiration</th><th scope=col>methanotrophy</th><th scope=col>sulfur_respiration</th><th scope=col>denitrification</th><th scope=col>anoxygenic_photoautotrophy</th></tr>\n",
       "</thead>\n",
       "<tbody>\n",
       "\t<tr><td>-0.5324805</td><td>0.5177664</td><td>0.4734762</td><td>0.479624</td><td>-0.1745629</td><td>0.2685986</td></tr>\n",
       "</tbody>\n",
       "</table>\n"
      ],
      "text/latex": [
       "A matrix: 1 × 6 of type dbl\n",
       "\\begin{tabular}{llllll}\n",
       " chloroplasts & thiosulfate\\_respiration & methanotrophy & sulfur\\_respiration & denitrification & anoxygenic\\_photoautotrophy\\\\\n",
       "\\hline\n",
       "\t -0.5324805 & 0.5177664 & 0.4734762 & 0.479624 & -0.1745629 & 0.2685986\\\\\n",
       "\\end{tabular}\n"
      ],
      "text/markdown": [
       "\n",
       "A matrix: 1 × 6 of type dbl\n",
       "\n",
       "| chloroplasts | thiosulfate_respiration | methanotrophy | sulfur_respiration | denitrification | anoxygenic_photoautotrophy |\n",
       "|---|---|---|---|---|---|\n",
       "| -0.5324805 | 0.5177664 | 0.4734762 | 0.479624 | -0.1745629 | 0.2685986 |\n",
       "\n"
      ],
      "text/plain": [
       "     chloroplasts thiosulfate_respiration methanotrophy sulfur_respiration\n",
       "[1,] -0.5324805   0.5177664               0.4734762     0.479624          \n",
       "     denitrification anoxygenic_photoautotrophy\n",
       "[1,] -0.1745629      0.2685986                 "
      ]
     },
     "metadata": {},
     "output_type": "display_data"
    }
   ],
   "source": [
    "set.seed(123)\n",
    "mixed_data_oeu = cbind.data.frame(env_data[,'hypoxia'], data_objects[['Fxn.SILVA']] )\n",
    "colnames(mixed_data_oeu) <- c('hypoxia', colnames(data_objects[['Fxn.SILVA']]))\n",
    "\n",
    "results <- rfe(mixed_data_oeu[,2:ncol(mixed_data_oeu)], mixed_data_oeu[,1], sizes=5:15, \n",
    "               metric='Accuracy', rfeControl=control)\n",
    "# summarize the results\n",
    "results\n",
    "\n",
    "rfe_imp_scaled <- varImp(results, scale = TRUE)\n",
    "head(rfe_imp_scaled)\n",
    "cor(as.integer(mixed_data_oeu$hypoxia), mixed_data_oeu[,rownames(rfe_imp_scaled)[which(rfe_imp_scaled > 3)]])"
   ]
  },
  {
   "cell_type": "code",
   "execution_count": 17,
   "id": "ignored-identifier",
   "metadata": {},
   "outputs": [],
   "source": [
    "write.table(rfe_imp_scaled, file = \"/Volumes/KeithSSD/ChesapeakeMicrobiome/data/tosarah/FAPROTAX_Fxns_random_forest_variable_importance_hypoxia.txt\", row.names = T)"
   ]
  },
  {
   "cell_type": "code",
   "execution_count": null,
   "id": "interpreted-sherman",
   "metadata": {},
   "outputs": [],
   "source": []
  }
 ],
 "metadata": {
  "kernelspec": {
   "display_name": "R",
   "language": "R",
   "name": "ir"
  },
  "language_info": {
   "codemirror_mode": "r",
   "file_extension": ".r",
   "mimetype": "text/x-r-source",
   "name": "R",
   "pygments_lexer": "r",
   "version": "4.0.3"
  }
 },
 "nbformat": 4,
 "nbformat_minor": 5
}
